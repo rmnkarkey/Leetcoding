{
 "cells": [
  {
   "cell_type": "code",
   "execution_count": 15,
   "metadata": {},
   "outputs": [
    {
     "data": {
      "text/plain": [
       "-1"
      ]
     },
     "execution_count": 15,
     "metadata": {},
     "output_type": "execute_result"
    }
   ],
   "source": [
    "class Solution(object):\n",
    "    def findLucky(self, arr):\n",
    "        sample_list = []\n",
    "        store_numbers= []\n",
    "        for i in list(set(arr)):\n",
    "            info={\n",
    "                'number':i,\n",
    "                'count':arr.count(i)\n",
    "            }\n",
    "            sample_list.append(info)\n",
    "            \n",
    "        \n",
    "        for j in sample_list:\n",
    "            if j['number'] == j['count']:\n",
    "                store_numbers.append(j['number'])\n",
    "                \n",
    "        if len(store_numbers) == 0:\n",
    "            return -1\n",
    "        return max(store_numbers)\n",
    "\n",
    "s=Solution()\n",
    "s.findLucky([2,2,2,3,3])"
   ]
  }
 ],
 "metadata": {
  "kernelspec": {
   "display_name": "Python 3",
   "language": "python",
   "name": "python3"
  },
  "language_info": {
   "codemirror_mode": {
    "name": "ipython",
    "version": 3
   },
   "file_extension": ".py",
   "mimetype": "text/x-python",
   "name": "python",
   "nbconvert_exporter": "python",
   "pygments_lexer": "ipython3",
   "version": "3.8.2"
  }
 },
 "nbformat": 4,
 "nbformat_minor": 4
}
