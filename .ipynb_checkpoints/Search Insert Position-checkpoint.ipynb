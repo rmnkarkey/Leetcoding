{
 "cells": [
  {
   "cell_type": "code",
   "execution_count": 34,
   "metadata": {},
   "outputs": [
    {
     "data": {
      "text/plain": [
       "6"
      ]
     },
     "execution_count": 34,
     "metadata": {},
     "output_type": "execute_result"
    }
   ],
   "source": [
    "class Solution(object):\n",
    "    def searchInsert(self, nums, target):\n",
    "        state = False\n",
    "        last_element = nums[len(nums)-1]\n",
    "        for i in nums:\n",
    "            if i == target:\n",
    "                return nums.index(i)\n",
    "            else:\n",
    "                if i == target - 1:\n",
    "                    return nums.index(i)+1\n",
    "                elif i == target + 1:\n",
    "                    if nums.index(i)-1 == -1:\n",
    "                        return 0\n",
    "                    return nums.index(i)\n",
    "        if target > last_element:\n",
    "            return len(nums)\n",
    "        if state == False:\n",
    "            return 0\n",
    "                \n",
    "                \n",
    "            \n",
    "s=Solution()\n",
    "s.searchInsert([2,3,4,7,8,9],11)"
   ]
  }
 ],
 "metadata": {
  "kernelspec": {
   "display_name": "Python 3",
   "language": "python",
   "name": "python3"
  },
  "language_info": {
   "codemirror_mode": {
    "name": "ipython",
    "version": 3
   },
   "file_extension": ".py",
   "mimetype": "text/x-python",
   "name": "python",
   "nbconvert_exporter": "python",
   "pygments_lexer": "ipython3",
   "version": "3.8.2"
  }
 },
 "nbformat": 4,
 "nbformat_minor": 4
}
