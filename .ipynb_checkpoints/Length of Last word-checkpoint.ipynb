{
 "cells": [
  {
   "cell_type": "code",
   "execution_count": 56,
   "metadata": {},
   "outputs": [
    {
     "name": "stdout",
     "output_type": "stream",
     "text": [
      "['Today', 'is', 'a', 'nice', 'day']\n"
     ]
    },
    {
     "data": {
      "text/plain": [
       "3"
      ]
     },
     "execution_count": 56,
     "metadata": {},
     "output_type": "execute_result"
    }
   ],
   "source": [
    "class Solution(object):\n",
    "    def lengthOfLastWord(self, s):\n",
    "        if s.lstrip() == \"\":\n",
    "            return 0\n",
    "        variable = s.split(\" \")\n",
    "        new_array = []\n",
    "        for i in variable:\n",
    "            if i.lstrip() != \"\":\n",
    "                new_array.append(i)\n",
    "        print(new_array)\n",
    "        last_index = len(new_array) - 1 \n",
    "        return len(new_array[last_index])\n",
    "s=Solution()\n",
    "s.lengthOfLastWord(\"Today is a nice day\")"
   ]
  }
 ],
 "metadata": {
  "kernelspec": {
   "display_name": "Python 3",
   "language": "python",
   "name": "python3"
  },
  "language_info": {
   "codemirror_mode": {
    "name": "ipython",
    "version": 3
   },
   "file_extension": ".py",
   "mimetype": "text/x-python",
   "name": "python",
   "nbconvert_exporter": "python",
   "pygments_lexer": "ipython3",
   "version": "3.8.2"
  }
 },
 "nbformat": 4,
 "nbformat_minor": 4
}
