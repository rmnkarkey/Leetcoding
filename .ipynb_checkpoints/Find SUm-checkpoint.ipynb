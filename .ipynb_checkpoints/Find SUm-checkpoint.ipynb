{
 "cells": [
  {
   "cell_type": "code",
   "execution_count": 115,
   "metadata": {
    "scrolled": true
   },
   "outputs": [
    {
     "data": {
      "text/plain": [
       "[]"
      ]
     },
     "execution_count": 115,
     "metadata": {},
     "output_type": "execute_result"
    }
   ],
   "source": [
    "class Solution(object):\n",
    "    \n",
    "    def twoSum(self, nums, target):\n",
    "        output_list = []\n",
    "        first = 0\n",
    "        second = 1\n",
    "        for i in range(len(nums)):\n",
    "            if abs(nums[first])+abs(nums[second]) == abs(target):\n",
    "                output_list.append(first)\n",
    "                output_list.append(second)\n",
    "                break\n",
    "            else:\n",
    "                if second == len(nums)-1:\n",
    "                    first = first + 1\n",
    "                    second = first + 1\n",
    "                else:\n",
    "                    second = second + 1\n",
    "                    \n",
    "        return output_list\n",
    "                \n",
    "a = Solution()\n",
    "a.twoSum([-1,-2,-3,-4,-5],-8)\n"
   ]
  },
  {
   "cell_type": "code",
   "execution_count": null,
   "metadata": {},
   "outputs": [],
   "source": []
  }
 ],
 "metadata": {
  "kernelspec": {
   "display_name": "Python 3",
   "language": "python",
   "name": "python3"
  },
  "language_info": {
   "codemirror_mode": {
    "name": "ipython",
    "version": 3
   },
   "file_extension": ".py",
   "mimetype": "text/x-python",
   "name": "python",
   "nbconvert_exporter": "python",
   "pygments_lexer": "ipython3",
   "version": "3.8.2"
  }
 },
 "nbformat": 4,
 "nbformat_minor": 4
}
