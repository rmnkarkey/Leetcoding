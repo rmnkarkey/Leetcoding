{
 "cells": [
  {
   "cell_type": "code",
   "execution_count": 19,
   "metadata": {},
   "outputs": [
    {
     "name": "stdout",
     "output_type": "stream",
     "text": [
      "7\n"
     ]
    },
    {
     "data": {
      "text/plain": [
       "[2, 4, 5, 8, 9, 0, 0]"
      ]
     },
     "execution_count": 19,
     "metadata": {},
     "output_type": "execute_result"
    }
   ],
   "source": [
    "class Solution(object):\n",
    "    def moveZeroes(self, nums):\n",
    "        print(len(nums))\n",
    "        if len(nums) == 1:\n",
    "            return nums\n",
    "        zero_list = []\n",
    "        count_zero = nums.count(0)\n",
    "        \n",
    "        if count_zero == 0:\n",
    "            return nums\n",
    "        for z in range(count_zero):\n",
    "            zero_list.append(0)\n",
    "        a = 0\n",
    "        b = 1\n",
    "        for i in range(len(nums)):\n",
    "            if a == len(nums):\n",
    "                a = 1\n",
    "                b = a+1\n",
    "            if b == len(nums):\n",
    "                b = 1\n",
    "                a = b + 1 \n",
    "            if nums[a] == 0 and nums[b] != 0:\n",
    "                nums[a],nums[b] = nums[b],nums[a]\n",
    "                b = b + 1\n",
    "                a = a + 1\n",
    "                if nums[-count_zero:] == zero_list:\n",
    "                    return nums\n",
    "            elif nums[a] != 0 and nums[b] == 0:\n",
    "                if len(nums)==2:\n",
    "                    return nums\n",
    "                else:\n",
    "                    a = a+1\n",
    "                    b = b+1\n",
    "            elif nums[a] == 0 and nums[b] == 0:\n",
    "                try:\n",
    "                    if len(nums) == 3:\n",
    "                        nums[a],nums[a+2] = nums[a+2],nums[a]\n",
    "                    else:\n",
    "                        if b == len(nums)-2:\n",
    "                            nums[a],nums[a+2] = nums[a+2],nums[a]\n",
    "                            a = a +1\n",
    "                            b = b + 1\n",
    "                        else:\n",
    "                            nums[a],nums[b],nums[a+2],nums[b+2] = nums[a+2],nums[b+2],nums[a],nums[b]\n",
    "                            if nums[a] == 0:\n",
    "                                a = a\n",
    "                            else:\n",
    "                                a = a + 1\n",
    "                            b = a + 1\n",
    "                except:\n",
    "                    a = 0\n",
    "                    b = a + 1\n",
    "            else:\n",
    "                a = a + 1\n",
    "                b = b + 1\n",
    "            \n",
    "        \n",
    "        return nums\n",
    "                \n",
    "                \n",
    "s=Solution()\n",
    "s.moveZeroes([0,2,4,0,5,8,9])"
   ]
  },
  {
   "cell_type": "code",
   "execution_count": null,
   "metadata": {},
   "outputs": [],
   "source": []
  }
 ],
 "metadata": {
  "kernelspec": {
   "display_name": "Python 3",
   "language": "python",
   "name": "python3"
  },
  "language_info": {
   "codemirror_mode": {
    "name": "ipython",
    "version": 3
   },
   "file_extension": ".py",
   "mimetype": "text/x-python",
   "name": "python",
   "nbconvert_exporter": "python",
   "pygments_lexer": "ipython3",
   "version": "3.8.2"
  }
 },
 "nbformat": 4,
 "nbformat_minor": 4
}
