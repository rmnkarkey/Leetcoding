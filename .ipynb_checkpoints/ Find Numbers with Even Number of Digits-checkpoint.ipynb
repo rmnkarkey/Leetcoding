{
 "cells": [
  {
   "cell_type": "code",
   "execution_count": 22,
   "metadata": {},
   "outputs": [
    {
     "data": {
      "text/plain": [
       "1"
      ]
     },
     "execution_count": 22,
     "metadata": {},
     "output_type": "execute_result"
    }
   ],
   "source": [
    "class Solution(object):\n",
    "    def findNumbers(self, nums):\n",
    "        new_arr = []\n",
    "        for i in nums:\n",
    "            if len(str(i)) % 2 ==0:\n",
    "                new_arr.append(i)\n",
    "        return len(new_arr)\n",
    "\n",
    "    \n",
    "s=Solution()\n",
    "s.findNumbers([555,901,482,1771])\n",
    "        "
   ]
  }
 ],
 "metadata": {
  "kernelspec": {
   "display_name": "Python 3",
   "language": "python",
   "name": "python3"
  },
  "language_info": {
   "codemirror_mode": {
    "name": "ipython",
    "version": 3
   },
   "file_extension": ".py",
   "mimetype": "text/x-python",
   "name": "python",
   "nbconvert_exporter": "python",
   "pygments_lexer": "ipython3",
   "version": "3.8.2"
  }
 },
 "nbformat": 4,
 "nbformat_minor": 4
}
