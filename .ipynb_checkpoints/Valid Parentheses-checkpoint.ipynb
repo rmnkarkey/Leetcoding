{
 "cells": [
  {
   "cell_type": "code",
   "execution_count": 46,
   "metadata": {},
   "outputs": [
    {
     "data": {
      "text/plain": [
       "False"
      ]
     },
     "execution_count": 46,
     "metadata": {},
     "output_type": "execute_result"
    }
   ],
   "source": [
    "class Solution(object):\n",
    "    open_list = [\"[\",\"{\",\"(\"] \n",
    "    close_list = [\"]\",\"}\",\")\"] \n",
    "    def isValid(self, s):\n",
    "        for i in range(len(s)):\n",
    "            if s[0] in self.close_list:\n",
    "                return False\n",
    "            else:\n",
    "                if s[i] in self.open_list:\n",
    "                    pointer_value = s[i]\n",
    "                i = i + 1 \n",
    "            try:    \n",
    "                if s[i] in self.open_list:\n",
    "                    pointer_value = s[i]\n",
    "                i = i + 1\n",
    "                \n",
    "                if s[i] in self.open_list:\n",
    "                    new_pointer_value = s[i]\n",
    "                else:\n",
    "                    ending_value = s[i]\n",
    "                \n",
    "                if str(pointer_value) == self.open_list[0] and str(ending_value) == self.close_list[0]:\n",
    "                    i = i + 1\n",
    "                else:\n",
    "                    return False\n",
    "            except:\n",
    "                 pass\n",
    "                \n",
    "                \n",
    "s=Solution()\n",
    "s.isValid(\"([])\")"
   ]
  }
 ],
 "metadata": {
  "kernelspec": {
   "display_name": "Python 3",
   "language": "python",
   "name": "python3"
  },
  "language_info": {
   "codemirror_mode": {
    "name": "ipython",
    "version": 3
   },
   "file_extension": ".py",
   "mimetype": "text/x-python",
   "name": "python",
   "nbconvert_exporter": "python",
   "pygments_lexer": "ipython3",
   "version": "3.8.2"
  }
 },
 "nbformat": 4,
 "nbformat_minor": 4
}
