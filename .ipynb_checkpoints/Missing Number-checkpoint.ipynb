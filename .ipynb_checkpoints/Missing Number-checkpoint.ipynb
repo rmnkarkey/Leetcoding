{
 "cells": [
  {
   "cell_type": "code",
   "execution_count": 326,
   "metadata": {},
   "outputs": [
    {
     "data": {
      "text/plain": [
       "0"
      ]
     },
     "execution_count": 326,
     "metadata": {},
     "output_type": "execute_result"
    }
   ],
   "source": [
    "class Solution(object):\n",
    "    def missingNumber(self, nums):\n",
    "        if len(nums) == 1:\n",
    "            if nums[0] == 1:\n",
    "                missing_num = 0\n",
    "            else:\n",
    "                missing_num = 1\n",
    "        elif len(nums) == 2:\n",
    "            if nums[0] == 1 and nums[1] == 0 or nums[0] == 0 and nums[1] == 1:\n",
    "                missing_num = 2\n",
    "            else:\n",
    "                missing_num = 0\n",
    "        else:\n",
    "            missing_num = 0\n",
    "        \n",
    "        max_num = max(nums)\n",
    "        low_num = min(nums)\n",
    "        if low_num == 0:\n",
    "            low_num = 1\n",
    "            \n",
    "        num = max_num \n",
    "        for i in range(low_num,max_num+1):\n",
    "            if i not in nums:\n",
    "                missing_num = i\n",
    "                break\n",
    "            else:\n",
    "                if i == num - 1:\n",
    "                    if i in nums:\n",
    "                        if len(nums) == 2 or 0 not in nums:\n",
    "                            missing_num = 0\n",
    "                        else:\n",
    "                            missing_num = num + 1\n",
    "        return missing_num\n",
    "        \n",
    "s = Solution()\n",
    "s.missingNumber([1,2,3])"
   ]
  }
 ],
 "metadata": {
  "kernelspec": {
   "display_name": "Python 3",
   "language": "python",
   "name": "python3"
  },
  "language_info": {
   "codemirror_mode": {
    "name": "ipython",
    "version": 3
   },
   "file_extension": ".py",
   "mimetype": "text/x-python",
   "name": "python",
   "nbconvert_exporter": "python",
   "pygments_lexer": "ipython3",
   "version": "3.8.2"
  }
 },
 "nbformat": 4,
 "nbformat_minor": 4
}
