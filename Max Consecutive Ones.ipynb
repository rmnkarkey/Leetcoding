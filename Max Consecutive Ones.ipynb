{
 "cells": [
  {
   "cell_type": "code",
   "execution_count": 4,
   "metadata": {},
   "outputs": [
    {
     "data": {
      "text/plain": [
       "4"
      ]
     },
     "execution_count": 4,
     "metadata": {},
     "output_type": "execute_result"
    }
   ],
   "source": [
    "class Solution(object):\n",
    "    def findMaxConsecutiveOnes(self, nums):\n",
    "        if len(nums) == 1:\n",
    "            if nums[0] == 1:\n",
    "                return 1\n",
    "            else:\n",
    "                return 0\n",
    "        elif len(nums) == 2:\n",
    "            if nums[0] != nums[1]:\n",
    "                return 1\n",
    "            elif nums[0] ==1 and nums[1] == 1:\n",
    "                return 2\n",
    "            else:\n",
    "                return 0\n",
    "        arr = []\n",
    "        nums.append(0)\n",
    "        for i in range(len(nums)):\n",
    "            if nums[i] == 0:\n",
    "                arr.append(i)\n",
    "        a = 0\n",
    "        b = 1\n",
    "        val = []\n",
    "        for k in range(len(arr)):\n",
    "            sum = 0\n",
    "            if arr[0] >= 2:\n",
    "                for x in range(arr[a]-arr[a],arr[a]):\n",
    "                    sum = sum + 1 \n",
    "                val.append(sum)\n",
    "            else:\n",
    "                for j in range(arr[a]+1,arr[b]):\n",
    "                    sum = sum +1\n",
    "\n",
    "                val.append(sum)\n",
    "            if a == len(arr)-2:\n",
    "                break\n",
    "            else:\n",
    "                a = a + 1\n",
    "                b = b + 1\n",
    "\n",
    "        return max(val)\n",
    "\n",
    "s=Solution()\n",
    "s.findMaxConsecutiveOnes([1,0,1,1,1,1])"
   ]
  }
 ],
 "metadata": {
  "kernelspec": {
   "display_name": "Python 3",
   "language": "python",
   "name": "python3"
  },
  "language_info": {
   "codemirror_mode": {
    "name": "ipython",
    "version": 3
   },
   "file_extension": ".py",
   "mimetype": "text/x-python",
   "name": "python",
   "nbconvert_exporter": "python",
   "pygments_lexer": "ipython3",
   "version": "3.8.5"
  }
 },
 "nbformat": 4,
 "nbformat_minor": 4
}
