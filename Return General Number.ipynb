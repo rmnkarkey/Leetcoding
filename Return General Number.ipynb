{
 "cells": [
  {
   "cell_type": "code",
   "execution_count": 2,
   "metadata": {},
   "outputs": [
    {
     "data": {
      "text/plain": [
       "3"
      ]
     },
     "execution_count": 2,
     "metadata": {},
     "output_type": "execute_result"
    }
   ],
   "source": [
    "def lists(a,val):\n",
    "    num = 0\n",
    "    last_elm = a[len(a)-1]\n",
    "    s = a[len(a)-1]\n",
    "    gap = val - s\n",
    "    if val % s == 0:\n",
    "        return s\n",
    "    if gap < s:\n",
    "        num = gap\n",
    "        return num\n",
    "    elif gap > s:\n",
    "        return lists(a,gap)\n",
    "\n",
    "lists([1,2,3,4,5,6,7],10)"
   ]
  }
 ],
 "metadata": {
  "kernelspec": {
   "display_name": "Python 3",
   "language": "python",
   "name": "python3"
  },
  "language_info": {
   "codemirror_mode": {
    "name": "ipython",
    "version": 3
   },
   "file_extension": ".py",
   "mimetype": "text/x-python",
   "name": "python",
   "nbconvert_exporter": "python",
   "pygments_lexer": "ipython3",
   "version": "3.8.2"
  }
 },
 "nbformat": 4,
 "nbformat_minor": 4
}
