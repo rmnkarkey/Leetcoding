{
 "cells": [
  {
   "cell_type": "code",
   "execution_count": 103,
   "metadata": {},
   "outputs": [
    {
     "data": {
      "text/plain": [
       "False"
      ]
     },
     "execution_count": 103,
     "metadata": {},
     "output_type": "execute_result"
    }
   ],
   "source": [
    "class Solution(object):\n",
    "    open_list = [\"[\",\"{\",\"(\"] \n",
    "    close_list = [\"]\",\"}\",\")\"] \n",
    "    def isValid(self, s):\n",
    "        strings = []\n",
    "        for i in s:\n",
    "            if i in self.open_list:\n",
    "                strings.append(i)\n",
    "            elif i in self.close_list:\n",
    "                value = self.close_list.index(i)\n",
    "                \n",
    "                if self.open_list[value] == strings[len(strings)-1]:\n",
    "                    strings.pop()\n",
    "            else:\n",
    "                return False\n",
    "            \n",
    "        if len(strings) == 0:\n",
    "            return True\n",
    "        else:\n",
    "            return False\n",
    "            \n",
    "            \n",
    "s=Solution()\n",
    "s.isValid(\"([{])\")"
   ]
  },
  {
   "cell_type": "code",
   "execution_count": null,
   "metadata": {},
   "outputs": [],
   "source": []
  }
 ],
 "metadata": {
  "kernelspec": {
   "display_name": "Python 3",
   "language": "python",
   "name": "python3"
  },
  "language_info": {
   "codemirror_mode": {
    "name": "ipython",
    "version": 3
   },
   "file_extension": ".py",
   "mimetype": "text/x-python",
   "name": "python",
   "nbconvert_exporter": "python",
   "pygments_lexer": "ipython3",
   "version": "3.8.2"
  }
 },
 "nbformat": 4,
 "nbformat_minor": 4
}
