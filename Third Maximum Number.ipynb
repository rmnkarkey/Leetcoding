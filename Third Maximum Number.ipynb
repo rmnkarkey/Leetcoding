{
 "cells": [
  {
   "cell_type": "code",
   "execution_count": 104,
   "metadata": {},
   "outputs": [
    {
     "data": {
      "text/plain": [
       "2"
      ]
     },
     "execution_count": 104,
     "metadata": {},
     "output_type": "execute_result"
    }
   ],
   "source": [
    "class Solution(object):\n",
    "    def thirdMax(self, nums):\n",
    "        if len(nums) < 3:\n",
    "            return nums[1]\n",
    "        sorted_array = sorted(list(set(nums)))\n",
    "        if len(sorted_array) == 2:\n",
    "            return sorted_array[1]\n",
    "        elif len(sorted_array) == 1:\n",
    "            return sorted_array[0]\n",
    "        else:\n",
    "            return sorted_array[len(sorted_array)-3]\n",
    "        \n",
    "s=Solution()\n",
    "s.thirdMax([3,2,1,4])"
   ]
  }
 ],
 "metadata": {
  "kernelspec": {
   "display_name": "Python 3",
   "language": "python",
   "name": "python3"
  },
  "language_info": {
   "codemirror_mode": {
    "name": "ipython",
    "version": 3
   },
   "file_extension": ".py",
   "mimetype": "text/x-python",
   "name": "python",
   "nbconvert_exporter": "python",
   "pygments_lexer": "ipython3",
   "version": "3.8.2"
  }
 },
 "nbformat": 4,
 "nbformat_minor": 4
}
