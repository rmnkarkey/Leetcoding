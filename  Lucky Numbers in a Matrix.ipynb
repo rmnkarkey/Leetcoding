{
 "cells": [
  {
   "cell_type": "code",
   "execution_count": 131,
   "metadata": {},
   "outputs": [
    {
     "data": {
      "text/plain": [
       "[]"
      ]
     },
     "execution_count": 131,
     "metadata": {},
     "output_type": "execute_result"
    }
   ],
   "source": [
    "class Solution(object):\n",
    "    def luckyNumbers (self, matrix):\n",
    "        arr= []\n",
    "        min_values = []\n",
    "        sub_arr = []\n",
    "        for i in range(len(matrix)):\n",
    "            min_val=min(matrix[i])\n",
    "            min_values.append(min_val)\n",
    "        \n",
    "        for j in range(len(matrix)):\n",
    "            for k in matrix[j]:\n",
    "                if k == max(min_values):\n",
    "                    index = matrix[j].index(k)\n",
    "                    arr.append(index)\n",
    "        for a in range(len(matrix)):\n",
    "            sub_arr.append(matrix[a][arr[0]])\n",
    "        \n",
    "        if max(sub_arr) == max(min_values):\n",
    "            return [max(min_values)]\n",
    "        else:\n",
    "            return []\n",
    "s=Solution()\n",
    "s.luckyNumbers([[36376,85652,21002,4510],[68246,64237,42962,9974],[32768,97721,47338,5841],[55103,18179,79062,46542]])"
   ]
  }
 ],
 "metadata": {
  "kernelspec": {
   "display_name": "Python 3",
   "language": "python",
   "name": "python3"
  },
  "language_info": {
   "codemirror_mode": {
    "name": "ipython",
    "version": 3
   },
   "file_extension": ".py",
   "mimetype": "text/x-python",
   "name": "python",
   "nbconvert_exporter": "python",
   "pygments_lexer": "ipython3",
   "version": "3.8.2"
  }
 },
 "nbformat": 4,
 "nbformat_minor": 4
}
