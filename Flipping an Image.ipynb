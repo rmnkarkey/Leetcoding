{
 "cells": [
  {
   "cell_type": "code",
   "execution_count": 63,
   "metadata": {},
   "outputs": [
    {
     "data": {
      "text/plain": [
       "[[1, 0, 0], [0, 1, 0], [1, 1, 1]]"
      ]
     },
     "execution_count": 63,
     "metadata": {},
     "output_type": "execute_result"
    }
   ],
   "source": [
    "class Solution(object):\n",
    "    def flipAndInvertImage(self, A):\n",
    "        new_arr = []\n",
    "        for i in A:\n",
    "            reverse_arr=i[::-1]\n",
    "            new_arr.append(reverse_arr)\n",
    "        \n",
    "        for j in range(len(new_arr)):\n",
    "            for k in range(len(new_arr[j])):\n",
    "                if new_arr[j][k] == 0:\n",
    "                    new_arr[j][k] = 1\n",
    "                elif new_arr[j][k] ==1:\n",
    "                    new_arr[j][k] = 0\n",
    "        \n",
    "        return new_arr\n",
    "                \n",
    "        \n",
    "s= Solution()\n",
    "s.flipAndInvertImage([[1,1,0],[1,0,1],[0,0,0]])"
   ]
  }
 ],
 "metadata": {
  "kernelspec": {
   "display_name": "Python 3",
   "language": "python",
   "name": "python3"
  },
  "language_info": {
   "codemirror_mode": {
    "name": "ipython",
    "version": 3
   },
   "file_extension": ".py",
   "mimetype": "text/x-python",
   "name": "python",
   "nbconvert_exporter": "python",
   "pygments_lexer": "ipython3",
   "version": "3.8.2"
  }
 },
 "nbformat": 4,
 "nbformat_minor": 4
}
