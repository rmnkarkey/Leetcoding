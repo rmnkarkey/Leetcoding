{
 "cells": [
  {
   "cell_type": "code",
   "execution_count": 31,
   "metadata": {},
   "outputs": [
    {
     "name": "stdout",
     "output_type": "stream",
     "text": [
      "[{'char': 'e', 'count': 4, 'index': 6}, {'char': 'c', 'count': 2, 'index': 2}, {'char': 'd', 'count': 4, 'index': 3}, {'char': 'b', 'count': 4, 'index': 1}, {'char': 'a', 'count': 3, 'index': 0}]\n",
      "[[6, 9], [3, 6], [1, 4], [0, 2]]\n"
     ]
    }
   ],
   "source": [
    "class Solution(object):\n",
    "    def largeGroupPositions(self, s):\n",
    "        new_arr =[]\n",
    "        selected_arr = []\n",
    "        for i in list(set(s)):\n",
    "            info={\n",
    "                'char':i,\n",
    "                'count':list(s).count(i),\n",
    "                'index':list(s).index(i)\n",
    "            }\n",
    "            new_arr.append(info)\n",
    "            \n",
    "        print(new_arr)\n",
    "        for j in new_arr:\n",
    "            if j['count'] >= 3:\n",
    "                selected_arr.append([j['index'],(j['index']+j['count'])-1])\n",
    "        \n",
    "        \n",
    "        print(selected_arr)\n",
    "    \n",
    "s=Solution()\n",
    "s.largeGroupPositions(\"abcdddeeeeaabbbcd\")\n",
    "        "
   ]
  },
  {
   "cell_type": "code",
   "execution_count": null,
   "metadata": {},
   "outputs": [],
   "source": []
  }
 ],
 "metadata": {
  "kernelspec": {
   "display_name": "Python 3",
   "language": "python",
   "name": "python3"
  },
  "language_info": {
   "codemirror_mode": {
    "name": "ipython",
    "version": 3
   },
   "file_extension": ".py",
   "mimetype": "text/x-python",
   "name": "python",
   "nbconvert_exporter": "python",
   "pygments_lexer": "ipython3",
   "version": "3.8.2"
  }
 },
 "nbformat": 4,
 "nbformat_minor": 4
}
